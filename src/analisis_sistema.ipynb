{
  "cells": [
    {
      "cell_type": "markdown",
      "id": "8c1dfbf6",
      "metadata": {
        "id": "8c1dfbf6"
      },
      "source": [
        "# Análisis del Sistema de Lorenz – Persona 3\n",
        "\n",
        "Este notebook aborda la tercera parte del Proyecto II de Análisis Numérico: el análisis teórico del sistema de Lorenz. Se estudian sus puntos fijos, la divergencia del campo vectorial, la evolución del volumen en el espacio de fase, y se interpreta geométricamente el comportamiento del sistema desde un punto de vista dinámico.\n"
      ]
    },
    {
      "cell_type": "markdown",
      "id": "b819647e",
      "metadata": {
        "id": "b819647e"
      },
      "source": [
        "## 1. Puntos fijos\n",
        "\n",
        "Los puntos fijos del sistema de Lorenz se obtienen resolviendo la siguiente condición:\n",
        "\n",
        "$$\n",
        "\\dot{x} = \\dot{y} = \\dot{z} = 0 \\Rightarrow\n",
        "\\begin{cases}\n",
        "\\sigma(y - x) = 0 \\\\\n",
        "x(\\rho - z) - y = 0 \\\\\n",
        "xy - \\beta z = 0\n",
        "\\end{cases}\n",
        "$$\n",
        "\n",
        "De donde se deduce que existen tres puntos fijos:\n",
        "\n",
        "$$\n",
        "\\begin{aligned}\n",
        "P_0 &= (0, 0, 0) \\\\\n",
        "P_\\pm &= \\left( \\pm \\sqrt{\\beta(\\rho - 1)}, \\pm \\sqrt{\\beta(\\rho - 1)}, \\rho - 1 \\right)\n",
        "\\end{aligned}\n",
        "$$\n",
        "\n"
      ]
    },
    {
      "cell_type": "code",
      "execution_count": 1,
      "id": "ee3ebfe6",
      "metadata": {
        "id": "ee3ebfe6",
        "outputId": "58b291d5-ad18-4d08-8d78-bbc96a4248ea"
      },
      "outputs": [
        {
          "name": "stdout",
          "output_type": "stream",
          "text": [
            "Punto fijo 0: x = 0.0000, y = 0.0000, z = 0.0000\n",
            "Punto fijo 1: x = 8.4853, y = 8.4853, z = 27.0000\n",
            "Punto fijo 2: x = -8.4853, y = -8.4853, z = 27.0000\n"
          ]
        }
      ],
      "source": [
        "\n",
        "from math import sqrt\n",
        "\n",
        "def puntos_fijos(rho, beta):\n",
        "    x_eq = sqrt(beta * (rho - 1))\n",
        "    return [\n",
        "        (0.0, 0.0, 0.0),\n",
        "        (x_eq, x_eq, rho - 1),\n",
        "        (-x_eq, -x_eq, rho - 1)\n",
        "    ]\n",
        "\n",
        "rho, beta = 28, 8/3\n",
        "p_fijos = puntos_fijos(rho, beta)\n",
        "for i, p in enumerate(p_fijos):\n",
        "    print(f\"Punto fijo {i}: x = {p[0]:.4f}, y = {p[1]:.4f}, z = {p[2]:.4f}\")\n"
      ]
    },
    {
      "cell_type": "markdown",
      "id": "8798a14f",
      "metadata": {
        "id": "8798a14f"
      },
      "source": [
        "### ¿Cómo se comportan los puntos fijos?\n",
        "\n",
        "Una vez obtenidos los puntos fijos del sistema de Lorenz:\n",
        "\n",
        "- \\( P_0 = (0, 0, 0) \\)\n",
        "\n",
        "- Los otros dos puntos fijos son:\n",
        "\n",
        "$$\n",
        "P_{\\pm} = \\left( \\pm \\sqrt{\\beta(\\rho - 1)},\\ \\pm \\sqrt{\\beta(\\rho - 1)},\\ \\rho - 1 \\right)\n",
        "$$\n",
        "\n",
        "Podemos analizarlos linealizando el sistema alrededor de cada punto (análisis de estabilidad con la matriz Jacobiana).\n",
        "\n",
        "\n",
        "---\n",
        "\n",
        "#### Punto A: \\( P_0 = (0, 0, 0) \\)\n",
        "\n",
        "La matriz Jacobiana del sistema evaluada en \\( P_0 \\) tiene autovalores reales con signo mixto (para \\( \\rho > 1 \\)).\n",
        "\n",
        "Esto implica que el punto es **inestable tipo silla**.  \n",
        "Las trayectorias divergen de este punto en al menos una dirección.\n",
        "\n",
        "---\n",
        "\n",
        "### Punto B: puntos $P_{\\pm}$\n",
        "\n",
        "Los dos puntos fijos simétricos están dados por:\n",
        "\n",
        "$$\n",
        "P_{\\pm} = \\left( \\pm \\sqrt{\\beta(\\rho - 1)},\\ \\pm \\sqrt{\\beta(\\rho - 1)},\\ \\rho - 1 \\right)\n",
        "$$\n",
        "\n",
        "- Para $ \\rho > \\rho_c \\approx 24.74 $, estos puntos se vuelven **inestables**, y el sistema comienza a exhibir **dinámica caótica**.\n",
        "\n",
        "- Para $ \\rho < \\rho_c $, este punto puede actuar como **atractor local**, pero no global.\n",
        "\n",
        "\n",
        "\n",
        "---\n",
        "\n",
        "#### Punto C: $ P_- = \\left( -\\sqrt{\\beta(\\rho - 1)},\\ -\\sqrt{\\beta(\\rho - 1)},\\ \\rho - 1 \\right) $\n",
        "\n",
        "Este punto es simétrico a \\( P_+ \\), con el mismo comportamiento dinámico:\n",
        "\n",
        "- Es **inestable** cuando $ \\rho > \\rho_c $.\n",
        "- Puede ser **atractor local** cuando $ \\rho < \\rho_c $.\n",
        "\n",
        "---\n",
        "\n",
        "> **Resumen:**  \n",
        "Los tres puntos fijos juegan un rol central en la dinámica del sistema de Lorenz. A medida que el parámetro $ \\rho $ cruza ciertos umbrales, el sistema pasa de estabilidad a caos. Estos puntos marcan transiciones clave y ayudan a entender cómo surgen estructuras atractoras en el espacio de fase.\n"
      ]
    },
    {
      "cell_type": "markdown",
      "id": "26c66c1d",
      "metadata": {
        "id": "26c66c1d"
      },
      "source": [
        "## 2. Divergencia del campo vectorial\n",
        "\n",
        "El campo vectorial del sistema de Lorenz es:\n",
        "\n",
        "$$\n",
        "\\vec{F}(x, y, z) =\n",
        "\\begin{pmatrix}\n",
        "\\sigma (y - x) \\\\\n",
        "x(\\rho - z) - y \\\\\n",
        "xy - \\beta z\n",
        "\\end{pmatrix}\n",
        "$$\n",
        "\n",
        "La divergencia se calcula como:\n",
        "\n",
        "$$\n",
        "\\nabla \\cdot \\vec{F} =\n",
        "\\frac{\\partial F_x}{\\partial x} +\n",
        "\\frac{\\partial F_y}{\\partial y} +\n",
        "\\frac{\\partial F_z}{\\partial z}\n",
        "= -\\sigma - 1 - \\beta\n",
        "$$\n"
      ]
    },
    {
      "cell_type": "code",
      "execution_count": 2,
      "id": "3f2e5e1b",
      "metadata": {
        "id": "3f2e5e1b",
        "outputId": "8eafe42b-98a1-429c-bbea-33133833d248"
      },
      "outputs": [
        {
          "name": "stdout",
          "output_type": "stream",
          "text": [
            "Divergencia del campo vectorial: -13.6667\n"
          ]
        }
      ],
      "source": [
        "\n",
        "def divergencia_lorenz(sigma, beta):\n",
        "    return -sigma - 1 - beta\n",
        "\n",
        "sigma = 10\n",
        "div = divergencia_lorenz(sigma, beta)\n",
        "print(f\"Divergencia del campo vectorial: {div:.4f}\")\n"
      ]
    },
    {
      "cell_type": "markdown",
      "id": "26a900d0",
      "metadata": {
        "id": "26a900d0"
      },
      "source": [
        "## 2.1. Interpretación geométrica\n",
        "\n",
        "Dado que la divergencia es negativa constante, el sistema de Lorenz es un **sistema disipativo**. Esto significa que las trayectorias en el espacio de fase tienden a comprimirse en un volumen cada vez menor con el tiempo.\n",
        "\n",
        "La contracción del volumen en el espacio tridimensional se relaciona con la aparición de un atractor extraño: un conjunto hacia el cual convergen las trayectorias del sistema a pesar de la sensibilidad a condiciones iniciales.\n",
        "\n",
        "Este comportamiento es característico de los **sistemas dinámicos caóticos**.\n"
      ]
    },
    {
      "cell_type": "markdown",
      "id": "f755a2c3",
      "metadata": {
        "id": "f755a2c3"
      },
      "source": [
        "## 3. Integral de flujo en el espacio de fase\n",
        "\n",
        "El espacio de fase del sistema de Lorenz está definido por las variables \\( (x, y, z) \\), y puede analizarse en términos de un volumen dinámico \\( V(t) \\) limitado por una superficie \\( S(t) \\). La tasa de cambio del volumen está dada por la **integral de flujo** sobre dicha superficie:\n",
        "\n",
        "$$\n",
        "\\frac{dV(t)}{dt} = \\iint_{S(t)} \\vec{F} \\cdot d\\vec{S}\n",
        "$$\n",
        "\n",
        "donde \\( \\vec{F} \\) es el campo vectorial del sistema de Lorenz, y \\( d\\vec{S} \\) es el vector normal a la superficie \\( S(t) \\).\n",
        "\n",
        "Aplicando el **teorema de la divergencia (Gauss)**, la integral de flujo se puede reescribir como una integral sobre el volumen:\n",
        "\n",
        "$$\n",
        "\\frac{dV(t)}{dt} = \\iiint_{V(t)} \\nabla \\cdot \\vec{F} \\, dV\n",
        "$$\n",
        "\n",
        "Dado que en el sistema de Lorenz la divergencia es constante y negativa:\n",
        "\n",
        "$$\n",
        "\\nabla \\cdot \\vec{F} = -(\\sigma + 1 + \\beta)\n",
        "$$\n",
        "\n",
        "se puede extraer de la integral:\n",
        "\n",
        "$$\n",
        "\\frac{dV(t)}{dt} = -(\\sigma + 1 + \\beta) \\cdot V(t)\n",
        "$$\n",
        "\n",
        "Esto lleva directamente a una **ecuación diferencial ordinaria** para el volumen.\n"
      ]
    },
    {
      "cell_type": "markdown",
      "id": "c909f91b",
      "metadata": {
        "id": "c909f91b"
      },
      "source": [
        "## 4. Resolución de la ecuación diferencial para \\( V(t) \\) y análisis\n",
        "\n",
        "La ecuación diferencial obtenida en el paso anterior es de la forma:\n",
        "\n",
        "$$\n",
        "\\frac{dV(t)}{dt} = -\\lambda \\cdot V(t), \\quad \\text{donde } \\lambda = \\sigma + 1 + \\beta\n",
        "$$\n",
        "\n",
        "Se trata de una EDO de primer orden con solución:\n",
        "\n",
        "$$\n",
        "V(t) = V_0 \\cdot e^{-\\lambda t}\n",
        "$$\n",
        "\n",
        "### ¿Cómo cambia el volumen con respecto al tiempo?\n",
        "\n",
        "La solución muestra que el volumen del espacio de fase **disminuye exponencialmente** con el tiempo. Esto implica que, aunque las trayectorias del sistema divergen unas de otras debido a la sensibilidad a condiciones iniciales, **todas permanecen confinadas dentro de una región que colapsa hacia un atractor**.\n",
        "\n",
        "Este comportamiento se traduce en una evolución no conservativa: el sistema **pierde volumen en el espacio de fase**, lo que confirma que es **disipativo**. Las soluciones no llenan todo el espacio tridimensional, sino que se agrupan en una subestructura de menor dimensión (el atractor de Lorenz), donde se concentra la dinámica del sistema a largo plazo.\n"
      ]
    },
    {
      "cell_type": "markdown",
      "id": "24e85ca4",
      "metadata": {
        "id": "24e85ca4"
      },
      "source": [
        "## 4.1. Evolución del volumen \\(V(t)\\) en el espacio de fase\n",
        "\n",
        "La ecuación que rige la evolución del volumen de una región del espacio de fase es:\n",
        "\n",
        "$$\n",
        "\\frac{dV(t)}{dt} = \\nabla \\cdot \\vec{F} \\cdot V(t) \\Rightarrow V(t) = V_0 \\cdot e^{-(\\sigma + 1 + \\beta)t}\n",
        "$$\n",
        "\n",
        "Esto implica que el volumen decrece **exponencialmente** en el tiempo, lo que confirma que el sistema converge hacia una estructura atractora de menor dimensión.\n"
      ]
    },
    {
      "cell_type": "code",
      "execution_count": 3,
      "id": "a49c8b48",
      "metadata": {
        "id": "a49c8b48",
        "outputId": "ffe3fb36-92fa-443e-8864-92f557a36444"
      },
      "outputs": [
        {
          "data": {
            "image/png": "[encoded data removed]",
            "text/plain": [
              "<Figure size 640x480 with 1 Axes>"
            ]
          },
          "metadata": {},
          "output_type": "display_data"
        }
      ],
      "source": [
        "\n",
        "import numpy as np\n",
        "import matplotlib.pyplot as plt\n",
        "\n",
        "def volumen_vs_t(t, V0, sigma, beta):\n",
        "    lam = sigma + 1 + beta\n",
        "    return V0 * np.exp(-lam * t)\n",
        "\n",
        "V0 = 1\n",
        "t = np.linspace(0, 5, 500)\n",
        "V = volumen_vs_t(t, V0, sigma, beta)\n",
        "\n",
        "plt.plot(t, V, label='V(t)', color='orange')\n",
        "plt.title(\"Evolución del volumen V(t) en el espacio de fase\")\n",
        "plt.xlabel(\"Tiempo\")\n",
        "plt.ylabel(\"Volumen V(t)\")\n",
        "plt.grid(True)\n",
        "plt.legend()\n",
        "plt.tight_layout()\n",
        "plt.show()\n"
      ]
    },
    {
      "cell_type": "markdown",
      "id": "1e08dfcb",
      "metadata": {
        "id": "1e08dfcb"
      },
      "source": [
        "### ¿Justifique y analice cómo cambia el volumen?\n",
        "\n",
        "El volumen \\( V(t) \\) en el espacio de fase disminuye según la ecuación:\n",
        "\n",
        "$$\n",
        "V(t) = V_0 \\cdot e^{-(\\sigma + 1 + \\beta)t}\n",
        "$$\n",
        "\n",
        "Esto significa que el sistema **pierde volumen en el espacio de fase**, lo cual indica que **no es conservativo**. Esta propiedad se asocia con sistemas **disipativos**, en los que la energía o volumen se disipa con el tiempo.\n",
        "\n",
        "Aunque las trayectorias divergen debido a la sensibilidad a las condiciones iniciales, **todas se colapsan hacia una región finita del espacio**: el **atractor de Lorenz**. Esta estructura es de dimensión fraccionaria y representa un **estado caótico pero acotado**.\n",
        "\n",
        "---\n"
      ]
    },
    {
      "cell_type": "markdown",
      "id": "RLH68jaycLIO",
      "metadata": {
        "id": "RLH68jaycLIO"
      },
      "source": [
        "## 5. ¿Es el sistema conservativo? Justifique\n",
        "\n",
        "Para determinar si el sistema de Lorenz es conservativo, debemos analizar la **divergencia del campo vectorial** asociado. Un sistema dinámico es **conservativo** si su divergencia es igual a cero, es decir:\n",
        "\n",
        "<br>\n",
        "$$\n",
        "\\nabla \\cdot \\vec{F} = 0\n",
        "$$\n",
        "<br>\n",
        "\n",
        "Recordemos que el sistema de Lorenz está definido por:\n",
        "\n",
        "<br>\n",
        "$$\n",
        "\\vec{F}(x, y, z) =\n",
        "\\begin{pmatrix}\n",
        "\\sigma(y - x) \\\\\n",
        "x(\\rho - z) - y \\\\\n",
        "xy - \\beta z\n",
        "\\end{pmatrix}\n",
        "$$\n",
        "<br>\n",
        "\n",
        "La divergencia de este campo se calcula como:\n",
        "\n",
        "<br>\n",
        "$$\n",
        "\\nabla \\cdot \\vec{F} = \\frac{\\partial F_1}{\\partial x} + \\frac{\\partial F_2}{\\partial y} + \\frac{\\partial F_3}{\\partial z}\n",
        "= -\\sigma - 1 - \\beta\n",
        "$$\n",
        "<br>\n",
        "\n",
        "Ya que los parámetros del sistema son positivos $( \\sigma = 10 ), ( \\beta = 8/3 ), ( \\rho = 28 )$, el resultado de la divergencia es:\n",
        "\n",
        "<br>\n",
        "$$\n",
        "\\nabla \\cdot \\vec{F} = -\\left(10 + 1 + \\frac{8}{3}\\right) = -\\frac{41}{3} \\approx -13.6667\n",
        "$$\n",
        "<br>\n",
        "\n",
        "Este valor es **constante y negativo**, por lo tanto:\n",
        "\n",
        "- El sistema **no es conservativo**.\n",
        "- Es un sistema **disipativo**, lo que significa que las trayectorias tienden a comprimir el volumen del espacio de fase a medida que evoluciona el tiempo.\n",
        "- Esta propiedad fue confirmada anteriormente mediante la ecuación:\n",
        "\n",
        "<br>\n",
        "$$\n",
        "\\frac{dV(t)}{dt} = -(\\sigma + 1 + \\beta) \\cdot V(t) \\Rightarrow V(t) = V_0 e^{-(\\sigma + 1 + \\beta)t}\n",
        "$$\n",
        "<br>\n",
        "\n",
        "La solución muestra una **disminución exponencial** del volumen \\( V(t) \\), lo cual implica disipación de energía o volumen en el sistema.\n",
        "\n",
        "---"
      ]
    },
    {
      "cell_type": "markdown",
      "id": "VhHLwhVvcjq-",
      "metadata": {
        "id": "VhHLwhVvcjq-"
      },
      "source": [
        "## 6. Análisis de fase para el sistema\n",
        "\n",
        "Un **análisis de fase** consiste en estudiar el comportamiento cualitativo de las trayectorias del sistema en el espacio tridimensional $(x, y, z)$, sin necesidad de resolver las ecuaciones explícitamente.\n",
        "\n",
        "En el caso del sistema de Lorenz, los **puntos fijos** encontrados previamente son:\n",
        "\n",
        "<br>\n",
        "$$\n",
        "P_0 = (0, 0, 0), \\quad\n",
        "P_\\pm = \\left( \\pm \\sqrt{\\beta(\\rho - 1)}, \\pm \\sqrt{\\beta(\\rho - 1)}, \\rho - 1 \\right)\n",
        "$$\n",
        "<br>\n",
        "\n",
        "Dependiendo del valor del parámetro \\( \\rho \\), se observan diferentes comportamientos dinámicos:\n",
        "\n",
        "- Cuando $ \\rho < 1 $: el único punto fijo real es el origen, y es **estable**.\n",
        "- Cuando $ 1 < \\rho < \\rho_c \\approx 24.74 $: aparecen los puntos $ P_\\pm $, que pueden actuar como **atractores locales**.\n",
        "- Cuando $ \\rho > \\rho_c $: el sistema exhibe **dinámica caótica**; los puntos fijos se vuelven **inestables** y las trayectorias oscilan de manera no periódica en torno a un atractor extraño.\n",
        "\n",
        "Este comportamiento se evidencia gráficamente en las simulaciones realizadas con diferentes condiciones iniciales, donde las trayectorias no tienden hacia un punto o ciclo límite, sino que evolucionan dentro de una región definida del espacio de fase, generando un patrón tipo mariposa conocido como el **atractor de Lorenz**.\n",
        "\n",
        "Además, la existencia de una **divergencia negativa constante** implica que el volumen ocupado por las soluciones en el espacio de fase disminuye con el tiempo, reforzando la idea de que el sistema converge hacia una región atractora de menor dimensión.\n",
        "\n",
        "<br>\n",
        "\n",
        "---\n",
        "\n",
        "## 7. Estabilidad local cerca del origen\n",
        "\n",
        "Para estudiar la estabilidad del sistema cerca del origen $ P_0 = (0, 0, 0) $, se linealiza el sistema mediante la **matriz Jacobiana** evaluada en ese punto. Ya fue calculada anteriormente, y está dada por:\n",
        "\n",
        "<br>\n",
        "$$\n",
        "J(P_0) =\n",
        "\\begin{pmatrix}\n",
        "-\\sigma & \\sigma & 0 \\\\\n",
        "\\rho & -1 & 0 \\\\\n",
        "0 & 0 & -\\beta\n",
        "\\end{pmatrix}\n",
        "$$\n",
        "<br>\n",
        "\n",
        "Los **autovalores** de esta matriz determinan la estabilidad local. Para los parámetros clásicos $( \\sigma = 10, \\rho = 28, \\beta = 8/3 )$, se tiene que:\n",
        "\n",
        "- Uno de los autovalores es positivo.\n",
        "- Otro es negativo.\n",
        "- El tercero también es negativo.\n",
        "\n",
        "Esto significa que el punto fijo en el origen es un **punto silla**: presenta direcciones de atracción y repulsión simultáneamente. Por lo tanto, el origen es **inestable**, ya que las trayectorias cercanas divergen de él con el tiempo, al menos en una dirección del espacio.\n",
        "\n",
        "Este resultado es consistente con el comportamiento caótico del sistema para $ \\rho > \\rho_c $, ya que no existe una atracción estable hacia el origen, sino una evolución compleja hacia una región atractora.\n",
        "<br>\n",
        "\n",
        "\n",
        "---"
      ]
    },
    {
      "cell_type": "markdown",
      "id": "2c3b0d9c",
      "metadata": {
        "id": "2c3b0d9c"
      },
      "source": [
        "## Conclusión del Análisis del Sistema de Lorenz\n",
        "\n",
        "En este estudio, se identificaron los **puntos fijos** del sistema de Lorenz y se analizó su estabilidad. Se encontró que para ciertos valores de $ \\rho $, el sistema presenta **inestabilidad** y tiende a un comportamiento **caótico**.\n",
        "\n",
        "A través del cálculo de la **divergencia del campo vectorial**, se verificó que el sistema es **disipativo**, y esta propiedad se reflejó en la evolución **exponencialmente decreciente del volumen \\( V(t) \\)** en el espacio de fase.\n",
        "\n",
        "Este colapso del volumen muestra que, aunque las trayectorias se separan por pequeñas diferencias en las condiciones iniciales, **todas terminan confinadas en una región** del espacio: el **atractor extraño de Lorenz**.\n",
        "\n",
        "Este sistema ejemplifica de forma clara los principios del **caos determinista**, siendo impredecible a largo plazo, pero con una estructura interna definida.\n",
        "\n",
        "En este análisis, descubrimos que el sistema de Lorenz **no es conservativo**. Esto significa que no mantiene su volumen a lo largo del tiempo. A medida que el sistema evoluciona, el volumen del espacio en el que se mueven las trayectorias tiende a reducirse. En lugar de conservarse, se **disipa**. Esto es un comportamiento típico de sistemas donde la energía o el volumen se pierden, lo que lo convierte en un sistema **caótico** que no sigue las reglas de conservación.\n",
        "\n",
        "El análisis de fase nos ayuda a entender cómo se comportan las trayectorias del sistema de Lorenz. Cuando el parámetro $ \\rho $ es menor que un valor crítico, el sistema se comporta de manera más predecible, pero cuando $ \\rho $ supera ese valor, el sistema se vuelve **caótico**. Esto significa que pequeñas diferencias en las condiciones iniciales pueden llevar a comportamientos completamente distintos. Las trayectorias ya no siguen un patrón predecible y se alejan de cualquier ciclo fijo, lo que genera lo que conocemos como un **atractor extraño**. Es como si el sistema tuviera un comportamiento impredecible pero estructurado, siempre dentro de un espacio limitado.\n",
        "\n",
        "\n",
        "Cuando analizamos el origen del sistema, encontramos que **no es un punto estable**. Es un **punto silla**, lo que significa que en algunas direcciones las trayectorias se acercan al origen, pero en otras se alejan de él. Esto muestra que el sistema es **inestable** cerca del origen. Este comportamiento es un indicio claro de que el sistema de Lorenz se comporta de manera impredecible, ya que no hay un punto fijo donde las trayectorias se estabilicen. Esto es típico de los sistemas caóticos, donde incluso pequeñas variaciones en las condiciones iniciales pueden llevar a resultados muy diferentes.\n",
        "\n",
        "\n",
        "---\n"
      ]
    },
    {
      "cell_type": "markdown",
      "id": "ff3e8e8f",
      "metadata": {
        "id": "ff3e8e8f"
      },
      "source": [
        "## 5. Bibliografía\n",
        "\n",
        "[1] E. N. Lorenz, \"Deterministic Nonperiodic Flow\", *Journal of the Atmospheric Sciences*, vol. 20, no. 2, pp. 130–141, 1963.  \n",
        "Disponible en: https://journals.ametsoc.org/view/journals/atsc/20/2/1520-0469_1963_020_0130_dnf_2_0_co_2.xml\n",
        "\n",
        "[2] Butcher, J. C. (2016). Numerical Methods for Ordinary Differential Equations. Wiley.\n",
        "https://onlinelibrary.wiley.com/doi/book/10.1002/9781119121534\n",
        "\n",
        "[3] Hilborn, R. C. (2000). Chaos and Nonlinear Dynamics: An Introduction for Scientists and Engineers. Oxford University Press.\n",
        "https://global.oup.com/academic/product/chaos-and-nonlinear-dynamics-9780198507239\n",
        "\n",
        "[4] Math Insight – Divergence and flow of vector fields.\n",
        "https://mathinsight.org/divergence_idea\n",
        "\n",
        "\n",
        "\n",
        "\n"
      ]
    }
  ],
  "metadata": {
    "colab": {
      "provenance": []
    },
    "kernelspec": {
      "display_name": "Python 3",
      "language": "python",
      "name": "python3"
    },
    "language_info": {
      "codemirror_mode": {
        "name": "ipython",
        "version": 3
      },
      "file_extension": ".py",
      "mimetype": "text/x-python",
      "name": "python",
      "nbconvert_exporter": "python",
      "pygments_lexer": "ipython3",
      "version": "3.11.9"
    }
  },
  "nbformat": 4,
  "nbformat_minor": 5
}
