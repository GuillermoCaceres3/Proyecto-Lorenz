{
 "cells": [
  {
   "cell_type": "markdown",
   "id": "794e19c2",
   "metadata": {},
   "source": [
    "# Método de Euler aplicado al sistema de Lorenz\n"
   ]
  }
 ],
 "metadata": {
  "language_info": {
   "name": "python"
  }
 },
 "nbformat": 4,
 "nbformat_minor": 5
}
